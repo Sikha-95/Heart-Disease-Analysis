{
 "cells": [
  {
   "cell_type": "markdown",
   "id": "b22104c0",
   "metadata": {
    "_cell_guid": "b1076dfc-b9ad-4769-8c92-a6c4dae69d19",
    "_uuid": "8f2839f25d086af736a60e9eeb907d3b93b6e0e5",
    "papermill": {
     "duration": 0.013292,
     "end_time": "2022-09-11T17:53:05.609262",
     "exception": false,
     "start_time": "2022-09-11T17:53:05.595970",
     "status": "completed"
    },
    "tags": []
   },
   "source": [
    "# Heart Disease Data Analysis "
   ]
  },
  {
   "cell_type": "code",
   "execution_count": 1,
   "id": "6e2292ae",
   "metadata": {
    "execution": {
     "iopub.execute_input": "2022-09-11T17:53:05.634145Z",
     "iopub.status.busy": "2022-09-11T17:53:05.633668Z",
     "iopub.status.idle": "2022-09-11T17:53:06.790371Z",
     "shell.execute_reply": "2022-09-11T17:53:06.789227Z"
    },
    "papermill": {
     "duration": 1.172677,
     "end_time": "2022-09-11T17:53:06.793477",
     "exception": false,
     "start_time": "2022-09-11T17:53:05.620800",
     "status": "completed"
    },
    "tags": []
   },
   "outputs": [],
   "source": [
    "# Importing Libraries\n",
    "\n",
    "import numpy as np \n",
    "import matplotlib.pyplot as plt\n",
    "import pandas as pd \n",
    "import seaborn as sns\n",
    "sns.set_style('whitegrid')\n",
    "%matplotlib inline "
   ]
  },
  {
   "cell_type": "code",
   "execution_count": 2,
   "id": "0fbdcd13",
   "metadata": {
    "execution": {
     "iopub.execute_input": "2022-09-11T17:53:06.818234Z",
     "iopub.status.busy": "2022-09-11T17:53:06.817810Z",
     "iopub.status.idle": "2022-09-11T17:53:06.870245Z",
     "shell.execute_reply": "2022-09-11T17:53:06.869058Z"
    },
    "papermill": {
     "duration": 0.068533,
     "end_time": "2022-09-11T17:53:06.873632",
     "exception": false,
     "start_time": "2022-09-11T17:53:06.805099",
     "status": "completed"
    },
    "tags": []
   },
   "outputs": [
    {
     "data": {
      "text/html": [
       "<div>\n",
       "<style scoped>\n",
       "    .dataframe tbody tr th:only-of-type {\n",
       "        vertical-align: middle;\n",
       "    }\n",
       "\n",
       "    .dataframe tbody tr th {\n",
       "        vertical-align: top;\n",
       "    }\n",
       "\n",
       "    .dataframe thead th {\n",
       "        text-align: right;\n",
       "    }\n",
       "</style>\n",
       "<table border=\"1\" class=\"dataframe\">\n",
       "  <thead>\n",
       "    <tr style=\"text-align: right;\">\n",
       "      <th></th>\n",
       "      <th>age</th>\n",
       "      <th>sex</th>\n",
       "      <th>cp</th>\n",
       "      <th>trestbps</th>\n",
       "      <th>chol</th>\n",
       "      <th>fbs</th>\n",
       "      <th>restecg</th>\n",
       "      <th>thalach</th>\n",
       "      <th>exang</th>\n",
       "      <th>oldpeak</th>\n",
       "      <th>slope</th>\n",
       "      <th>ca</th>\n",
       "      <th>thal</th>\n",
       "      <th>num</th>\n",
       "    </tr>\n",
       "  </thead>\n",
       "  <tbody>\n",
       "    <tr>\n",
       "      <th>0</th>\n",
       "      <td>63</td>\n",
       "      <td>1</td>\n",
       "      <td>1</td>\n",
       "      <td>145</td>\n",
       "      <td>233</td>\n",
       "      <td>1</td>\n",
       "      <td>2</td>\n",
       "      <td>150</td>\n",
       "      <td>0</td>\n",
       "      <td>2.3</td>\n",
       "      <td>3</td>\n",
       "      <td>0</td>\n",
       "      <td>6</td>\n",
       "      <td>0</td>\n",
       "    </tr>\n",
       "    <tr>\n",
       "      <th>1</th>\n",
       "      <td>67</td>\n",
       "      <td>1</td>\n",
       "      <td>4</td>\n",
       "      <td>160</td>\n",
       "      <td>286</td>\n",
       "      <td>0</td>\n",
       "      <td>2</td>\n",
       "      <td>108</td>\n",
       "      <td>1</td>\n",
       "      <td>1.5</td>\n",
       "      <td>2</td>\n",
       "      <td>3</td>\n",
       "      <td>3</td>\n",
       "      <td>1</td>\n",
       "    </tr>\n",
       "    <tr>\n",
       "      <th>2</th>\n",
       "      <td>67</td>\n",
       "      <td>1</td>\n",
       "      <td>4</td>\n",
       "      <td>120</td>\n",
       "      <td>229</td>\n",
       "      <td>0</td>\n",
       "      <td>2</td>\n",
       "      <td>129</td>\n",
       "      <td>1</td>\n",
       "      <td>2.6</td>\n",
       "      <td>2</td>\n",
       "      <td>2</td>\n",
       "      <td>7</td>\n",
       "      <td>1</td>\n",
       "    </tr>\n",
       "    <tr>\n",
       "      <th>3</th>\n",
       "      <td>37</td>\n",
       "      <td>1</td>\n",
       "      <td>3</td>\n",
       "      <td>130</td>\n",
       "      <td>250</td>\n",
       "      <td>0</td>\n",
       "      <td>0</td>\n",
       "      <td>187</td>\n",
       "      <td>0</td>\n",
       "      <td>3.5</td>\n",
       "      <td>3</td>\n",
       "      <td>0</td>\n",
       "      <td>3</td>\n",
       "      <td>0</td>\n",
       "    </tr>\n",
       "    <tr>\n",
       "      <th>4</th>\n",
       "      <td>41</td>\n",
       "      <td>0</td>\n",
       "      <td>2</td>\n",
       "      <td>130</td>\n",
       "      <td>204</td>\n",
       "      <td>0</td>\n",
       "      <td>2</td>\n",
       "      <td>172</td>\n",
       "      <td>0</td>\n",
       "      <td>1.4</td>\n",
       "      <td>1</td>\n",
       "      <td>0</td>\n",
       "      <td>3</td>\n",
       "      <td>0</td>\n",
       "    </tr>\n",
       "    <tr>\n",
       "      <th>...</th>\n",
       "      <td>...</td>\n",
       "      <td>...</td>\n",
       "      <td>...</td>\n",
       "      <td>...</td>\n",
       "      <td>...</td>\n",
       "      <td>...</td>\n",
       "      <td>...</td>\n",
       "      <td>...</td>\n",
       "      <td>...</td>\n",
       "      <td>...</td>\n",
       "      <td>...</td>\n",
       "      <td>...</td>\n",
       "      <td>...</td>\n",
       "      <td>...</td>\n",
       "    </tr>\n",
       "    <tr>\n",
       "      <th>298</th>\n",
       "      <td>45</td>\n",
       "      <td>1</td>\n",
       "      <td>1</td>\n",
       "      <td>110</td>\n",
       "      <td>264</td>\n",
       "      <td>0</td>\n",
       "      <td>0</td>\n",
       "      <td>132</td>\n",
       "      <td>0</td>\n",
       "      <td>1.2</td>\n",
       "      <td>2</td>\n",
       "      <td>0</td>\n",
       "      <td>7</td>\n",
       "      <td>1</td>\n",
       "    </tr>\n",
       "    <tr>\n",
       "      <th>299</th>\n",
       "      <td>68</td>\n",
       "      <td>1</td>\n",
       "      <td>4</td>\n",
       "      <td>144</td>\n",
       "      <td>193</td>\n",
       "      <td>1</td>\n",
       "      <td>0</td>\n",
       "      <td>141</td>\n",
       "      <td>0</td>\n",
       "      <td>3.4</td>\n",
       "      <td>2</td>\n",
       "      <td>2</td>\n",
       "      <td>7</td>\n",
       "      <td>1</td>\n",
       "    </tr>\n",
       "    <tr>\n",
       "      <th>300</th>\n",
       "      <td>57</td>\n",
       "      <td>1</td>\n",
       "      <td>4</td>\n",
       "      <td>130</td>\n",
       "      <td>131</td>\n",
       "      <td>0</td>\n",
       "      <td>0</td>\n",
       "      <td>115</td>\n",
       "      <td>1</td>\n",
       "      <td>1.2</td>\n",
       "      <td>2</td>\n",
       "      <td>1</td>\n",
       "      <td>7</td>\n",
       "      <td>1</td>\n",
       "    </tr>\n",
       "    <tr>\n",
       "      <th>301</th>\n",
       "      <td>57</td>\n",
       "      <td>0</td>\n",
       "      <td>2</td>\n",
       "      <td>130</td>\n",
       "      <td>236</td>\n",
       "      <td>0</td>\n",
       "      <td>2</td>\n",
       "      <td>174</td>\n",
       "      <td>0</td>\n",
       "      <td>0.0</td>\n",
       "      <td>2</td>\n",
       "      <td>1</td>\n",
       "      <td>3</td>\n",
       "      <td>1</td>\n",
       "    </tr>\n",
       "    <tr>\n",
       "      <th>302</th>\n",
       "      <td>38</td>\n",
       "      <td>1</td>\n",
       "      <td>3</td>\n",
       "      <td>138</td>\n",
       "      <td>175</td>\n",
       "      <td>0</td>\n",
       "      <td>0</td>\n",
       "      <td>173</td>\n",
       "      <td>0</td>\n",
       "      <td>0.0</td>\n",
       "      <td>1</td>\n",
       "      <td>-100000</td>\n",
       "      <td>3</td>\n",
       "      <td>0</td>\n",
       "    </tr>\n",
       "  </tbody>\n",
       "</table>\n",
       "<p>303 rows × 14 columns</p>\n",
       "</div>"
      ],
      "text/plain": [
       "     age  sex  cp  trestbps  chol  fbs  restecg  thalach  exang  oldpeak  \\\n",
       "0     63    1   1       145   233    1        2      150      0      2.3   \n",
       "1     67    1   4       160   286    0        2      108      1      1.5   \n",
       "2     67    1   4       120   229    0        2      129      1      2.6   \n",
       "3     37    1   3       130   250    0        0      187      0      3.5   \n",
       "4     41    0   2       130   204    0        2      172      0      1.4   \n",
       "..   ...  ...  ..       ...   ...  ...      ...      ...    ...      ...   \n",
       "298   45    1   1       110   264    0        0      132      0      1.2   \n",
       "299   68    1   4       144   193    1        0      141      0      3.4   \n",
       "300   57    1   4       130   131    0        0      115      1      1.2   \n",
       "301   57    0   2       130   236    0        2      174      0      0.0   \n",
       "302   38    1   3       138   175    0        0      173      0      0.0   \n",
       "\n",
       "     slope      ca  thal  num  \n",
       "0        3       0     6    0  \n",
       "1        2       3     3    1  \n",
       "2        2       2     7    1  \n",
       "3        3       0     3    0  \n",
       "4        1       0     3    0  \n",
       "..     ...     ...   ...  ...  \n",
       "298      2       0     7    1  \n",
       "299      2       2     7    1  \n",
       "300      2       1     7    1  \n",
       "301      2       1     3    1  \n",
       "302      1 -100000     3    0  \n",
       "\n",
       "[303 rows x 14 columns]"
      ]
     },
     "execution_count": 2,
     "metadata": {},
     "output_type": "execute_result"
    }
   ],
   "source": [
    "# Loading the data \n",
    "\n",
    "data = pd.read_csv('../input/heart-disease/heart_disease_dataset.csv')\n",
    "data"
   ]
  },
  {
   "cell_type": "code",
   "execution_count": 3,
   "id": "f592f708",
   "metadata": {
    "execution": {
     "iopub.execute_input": "2022-09-11T17:53:06.900851Z",
     "iopub.status.busy": "2022-09-11T17:53:06.899651Z",
     "iopub.status.idle": "2022-09-11T17:53:06.906611Z",
     "shell.execute_reply": "2022-09-11T17:53:06.905768Z"
    },
    "papermill": {
     "duration": 0.02184,
     "end_time": "2022-09-11T17:53:06.908776",
     "exception": false,
     "start_time": "2022-09-11T17:53:06.886936",
     "status": "completed"
    },
    "tags": []
   },
   "outputs": [
    {
     "data": {
      "text/plain": [
       "(303, 14)"
      ]
     },
     "execution_count": 3,
     "metadata": {},
     "output_type": "execute_result"
    }
   ],
   "source": [
    "# Shape of the data\n",
    "\n",
    "data.shape"
   ]
  },
  {
   "cell_type": "code",
   "execution_count": 4,
   "id": "90ccd74e",
   "metadata": {
    "execution": {
     "iopub.execute_input": "2022-09-11T17:53:06.933759Z",
     "iopub.status.busy": "2022-09-11T17:53:06.932995Z",
     "iopub.status.idle": "2022-09-11T17:53:06.941297Z",
     "shell.execute_reply": "2022-09-11T17:53:06.940329Z"
    },
    "papermill": {
     "duration": 0.023451,
     "end_time": "2022-09-11T17:53:06.943578",
     "exception": false,
     "start_time": "2022-09-11T17:53:06.920127",
     "status": "completed"
    },
    "tags": []
   },
   "outputs": [
    {
     "data": {
      "text/plain": [
       "age           int64\n",
       "sex           int64\n",
       "cp            int64\n",
       "trestbps      int64\n",
       "chol          int64\n",
       "fbs           int64\n",
       "restecg       int64\n",
       "thalach       int64\n",
       "exang         int64\n",
       "oldpeak     float64\n",
       "slope         int64\n",
       "ca            int64\n",
       "thal          int64\n",
       "num           int64\n",
       "dtype: object"
      ]
     },
     "execution_count": 4,
     "metadata": {},
     "output_type": "execute_result"
    }
   ],
   "source": [
    "# Data type \n",
    "\n",
    "data.dtypes"
   ]
  },
  {
   "cell_type": "code",
   "execution_count": 5,
   "id": "def81cda",
   "metadata": {
    "execution": {
     "iopub.execute_input": "2022-09-11T17:53:06.968392Z",
     "iopub.status.busy": "2022-09-11T17:53:06.968014Z",
     "iopub.status.idle": "2022-09-11T17:53:06.981215Z",
     "shell.execute_reply": "2022-09-11T17:53:06.980110Z"
    },
    "papermill": {
     "duration": 0.028374,
     "end_time": "2022-09-11T17:53:06.983510",
     "exception": false,
     "start_time": "2022-09-11T17:53:06.955136",
     "status": "completed"
    },
    "tags": []
   },
   "outputs": [
    {
     "data": {
      "text/plain": [
       "<bound method DataFrame.info of      age  sex  cp  trestbps  chol  fbs  restecg  thalach  exang  oldpeak  \\\n",
       "0     63    1   1       145   233    1        2      150      0      2.3   \n",
       "1     67    1   4       160   286    0        2      108      1      1.5   \n",
       "2     67    1   4       120   229    0        2      129      1      2.6   \n",
       "3     37    1   3       130   250    0        0      187      0      3.5   \n",
       "4     41    0   2       130   204    0        2      172      0      1.4   \n",
       "..   ...  ...  ..       ...   ...  ...      ...      ...    ...      ...   \n",
       "298   45    1   1       110   264    0        0      132      0      1.2   \n",
       "299   68    1   4       144   193    1        0      141      0      3.4   \n",
       "300   57    1   4       130   131    0        0      115      1      1.2   \n",
       "301   57    0   2       130   236    0        2      174      0      0.0   \n",
       "302   38    1   3       138   175    0        0      173      0      0.0   \n",
       "\n",
       "     slope      ca  thal  num  \n",
       "0        3       0     6    0  \n",
       "1        2       3     3    1  \n",
       "2        2       2     7    1  \n",
       "3        3       0     3    0  \n",
       "4        1       0     3    0  \n",
       "..     ...     ...   ...  ...  \n",
       "298      2       0     7    1  \n",
       "299      2       2     7    1  \n",
       "300      2       1     7    1  \n",
       "301      2       1     3    1  \n",
       "302      1 -100000     3    0  \n",
       "\n",
       "[303 rows x 14 columns]>"
      ]
     },
     "execution_count": 5,
     "metadata": {},
     "output_type": "execute_result"
    }
   ],
   "source": [
    "# All the information about the data\n",
    "\n",
    "data.info"
   ]
  },
  {
   "cell_type": "code",
   "execution_count": 6,
   "id": "25635085",
   "metadata": {
    "execution": {
     "iopub.execute_input": "2022-09-11T17:53:07.009617Z",
     "iopub.status.busy": "2022-09-11T17:53:07.009226Z",
     "iopub.status.idle": "2022-09-11T17:53:07.014813Z",
     "shell.execute_reply": "2022-09-11T17:53:07.014073Z"
    },
    "papermill": {
     "duration": 0.021602,
     "end_time": "2022-09-11T17:53:07.017042",
     "exception": false,
     "start_time": "2022-09-11T17:53:06.995440",
     "status": "completed"
    },
    "tags": []
   },
   "outputs": [
    {
     "data": {
      "text/plain": [
       "Index(['age', 'sex', 'cp', 'trestbps', 'chol', 'fbs', 'restecg', 'thalach',\n",
       "       'exang', 'oldpeak', 'slope', 'ca', 'thal', 'num'],\n",
       "      dtype='object')"
      ]
     },
     "execution_count": 6,
     "metadata": {},
     "output_type": "execute_result"
    }
   ],
   "source": [
    "# Listing all the columns of the dataset\n",
    " \n",
    "data.columns"
   ]
  },
  {
   "cell_type": "markdown",
   "id": "dd238d4e",
   "metadata": {
    "papermill": {
     "duration": 0.01156,
     "end_time": "2022-09-11T17:53:07.040612",
     "exception": false,
     "start_time": "2022-09-11T17:53:07.029052",
     "status": "completed"
    },
    "tags": []
   },
   "source": [
    "## There are thirteen features in Dataset\n",
    "\n",
    "\n",
    "age: Age of the person\n",
    "\n",
    "sex: Person's sex(1 = male, 0= female)\n",
    "\n",
    "cp: Cest Pain. There are four types of pain chest pain(Angina).(1:Typical Angina, 2: Atypical Angina, 3: Non-anginal pain, 4: Asymptomatic)\n",
    "\n",
    "tresttbps: resting blood pressure in mm Hg on admission to the hospital.\n",
    "\n",
    "chol: Person's cholesterol level.\n",
    "\n",
    "fbs: Person's fasting blood sugar level(1= True, 0= False)\n",
    "\n",
    "restecg: Resting electrocardiogram.\n",
    "\n",
    "thalach:  It is a continuous data type that describes the max heart rate achieved.\n",
    "\n",
    "exang:  Exercise induced angina(1= yes, 0 = No)\n",
    "\n",
    "oldpeak: ST depression induced by exercise relative to rest.\n",
    "\n",
    "Slope: The slope of the peak exercise ST segment(1: upsloping, 2: flat, 3: downslopping)\n",
    "\n",
    "ca: number of major vessels (0-3) colored by flourosopy (for calcification of vessels).\n",
    "\n",
    "thal: results of nuclear stress test (3 = normal; 6 = fixed defect; 7 = reversable defect).\n",
    "\n",
    "num : target variable representing diagnosis of heart disease (angiographic disease status) in any major vessel(0 = no, 1 = yes).\n"
   ]
  },
  {
   "cell_type": "code",
   "execution_count": 7,
   "id": "d4cae7dc",
   "metadata": {
    "execution": {
     "iopub.execute_input": "2022-09-11T17:53:07.067211Z",
     "iopub.status.busy": "2022-09-11T17:53:07.066377Z",
     "iopub.status.idle": "2022-09-11T17:53:07.076219Z",
     "shell.execute_reply": "2022-09-11T17:53:07.075094Z"
    },
    "papermill": {
     "duration": 0.02558,
     "end_time": "2022-09-11T17:53:07.078581",
     "exception": false,
     "start_time": "2022-09-11T17:53:07.053001",
     "status": "completed"
    },
    "tags": []
   },
   "outputs": [
    {
     "data": {
      "text/plain": [
       "age         0\n",
       "sex         0\n",
       "cp          0\n",
       "trestbps    0\n",
       "chol        0\n",
       "fbs         0\n",
       "restecg     0\n",
       "thalach     0\n",
       "exang       0\n",
       "oldpeak     0\n",
       "slope       0\n",
       "ca          0\n",
       "thal        0\n",
       "num         0\n",
       "dtype: int64"
      ]
     },
     "execution_count": 7,
     "metadata": {},
     "output_type": "execute_result"
    }
   ],
   "source": [
    "# Cjhecking all the null values \n",
    "\n",
    "data.isnull().sum()"
   ]
  },
  {
   "cell_type": "code",
   "execution_count": 8,
   "id": "fc0f074e",
   "metadata": {
    "execution": {
     "iopub.execute_input": "2022-09-11T17:53:07.104818Z",
     "iopub.status.busy": "2022-09-11T17:53:07.104086Z",
     "iopub.status.idle": "2022-09-11T17:53:07.115775Z",
     "shell.execute_reply": "2022-09-11T17:53:07.114962Z"
    },
    "papermill": {
     "duration": 0.027484,
     "end_time": "2022-09-11T17:53:07.118093",
     "exception": false,
     "start_time": "2022-09-11T17:53:07.090609",
     "status": "completed"
    },
    "tags": []
   },
   "outputs": [
    {
     "data": {
      "text/plain": [
       "<bound method NDFrame.describe of      age  sex  cp  trestbps  chol  fbs  restecg  thalach  exang  oldpeak  \\\n",
       "0     63    1   1       145   233    1        2      150      0      2.3   \n",
       "1     67    1   4       160   286    0        2      108      1      1.5   \n",
       "2     67    1   4       120   229    0        2      129      1      2.6   \n",
       "3     37    1   3       130   250    0        0      187      0      3.5   \n",
       "4     41    0   2       130   204    0        2      172      0      1.4   \n",
       "..   ...  ...  ..       ...   ...  ...      ...      ...    ...      ...   \n",
       "298   45    1   1       110   264    0        0      132      0      1.2   \n",
       "299   68    1   4       144   193    1        0      141      0      3.4   \n",
       "300   57    1   4       130   131    0        0      115      1      1.2   \n",
       "301   57    0   2       130   236    0        2      174      0      0.0   \n",
       "302   38    1   3       138   175    0        0      173      0      0.0   \n",
       "\n",
       "     slope      ca  thal  num  \n",
       "0        3       0     6    0  \n",
       "1        2       3     3    1  \n",
       "2        2       2     7    1  \n",
       "3        3       0     3    0  \n",
       "4        1       0     3    0  \n",
       "..     ...     ...   ...  ...  \n",
       "298      2       0     7    1  \n",
       "299      2       2     7    1  \n",
       "300      2       1     7    1  \n",
       "301      2       1     3    1  \n",
       "302      1 -100000     3    0  \n",
       "\n",
       "[303 rows x 14 columns]>"
      ]
     },
     "execution_count": 8,
     "metadata": {},
     "output_type": "execute_result"
    }
   ],
   "source": [
    "# Describing the data set \n",
    "\n",
    "data.describe"
   ]
  },
  {
   "cell_type": "code",
   "execution_count": 9,
   "id": "49def101",
   "metadata": {
    "execution": {
     "iopub.execute_input": "2022-09-11T17:53:07.144550Z",
     "iopub.status.busy": "2022-09-11T17:53:07.143837Z",
     "iopub.status.idle": "2022-09-11T17:53:07.153741Z",
     "shell.execute_reply": "2022-09-11T17:53:07.152854Z"
    },
    "papermill": {
     "duration": 0.025421,
     "end_time": "2022-09-11T17:53:07.155747",
     "exception": false,
     "start_time": "2022-09-11T17:53:07.130326",
     "status": "completed"
    },
    "tags": []
   },
   "outputs": [
    {
     "data": {
      "text/plain": [
       "age          56.0\n",
       "sex           1.0\n",
       "cp            3.0\n",
       "trestbps    130.0\n",
       "chol        241.0\n",
       "fbs           0.0\n",
       "restecg       1.0\n",
       "thalach     153.0\n",
       "exang         0.0\n",
       "oldpeak       0.8\n",
       "slope         2.0\n",
       "ca            0.0\n",
       "thal          3.0\n",
       "num           0.0\n",
       "dtype: float64"
      ]
     },
     "execution_count": 9,
     "metadata": {},
     "output_type": "execute_result"
    }
   ],
   "source": [
    "# Getting all the median vlaues of the data \n",
    "\n",
    "data.median()"
   ]
  },
  {
   "cell_type": "code",
   "execution_count": 10,
   "id": "ceeb3db7",
   "metadata": {
    "execution": {
     "iopub.execute_input": "2022-09-11T17:53:07.182060Z",
     "iopub.status.busy": "2022-09-11T17:53:07.181580Z",
     "iopub.status.idle": "2022-09-11T17:53:07.194315Z",
     "shell.execute_reply": "2022-09-11T17:53:07.193282Z"
    },
    "papermill": {
     "duration": 0.028625,
     "end_time": "2022-09-11T17:53:07.196600",
     "exception": false,
     "start_time": "2022-09-11T17:53:07.167975",
     "status": "completed"
    },
    "tags": []
   },
   "outputs": [],
   "source": [
    "# replacing 0 in 'ca where value = -100000\n",
    "\n",
    "ca_median = int(data['ca'].median())\n",
    "data.loc[data.ca == -100000, 'ca'] = np.nan\n",
    "data.fillna(ca_median,inplace=True)"
   ]
  },
  {
   "cell_type": "code",
   "execution_count": 11,
   "id": "1fb43168",
   "metadata": {
    "execution": {
     "iopub.execute_input": "2022-09-11T17:53:07.222764Z",
     "iopub.status.busy": "2022-09-11T17:53:07.222375Z",
     "iopub.status.idle": "2022-09-11T17:53:07.231117Z",
     "shell.execute_reply": "2022-09-11T17:53:07.230033Z"
    },
    "papermill": {
     "duration": 0.024418,
     "end_time": "2022-09-11T17:53:07.233417",
     "exception": false,
     "start_time": "2022-09-11T17:53:07.208999",
     "status": "completed"
    },
    "tags": []
   },
   "outputs": [
    {
     "data": {
      "text/plain": [
       "0      0.0\n",
       "1      3.0\n",
       "2      2.0\n",
       "3      0.0\n",
       "4      0.0\n",
       "      ... \n",
       "298    0.0\n",
       "299    2.0\n",
       "300    1.0\n",
       "301    1.0\n",
       "302    0.0\n",
       "Name: ca, Length: 303, dtype: float64"
      ]
     },
     "execution_count": 11,
     "metadata": {},
     "output_type": "execute_result"
    }
   ],
   "source": [
    "data['ca']"
   ]
  },
  {
   "cell_type": "code",
   "execution_count": 12,
   "id": "9e5f0567",
   "metadata": {
    "execution": {
     "iopub.execute_input": "2022-09-11T17:53:07.259761Z",
     "iopub.status.busy": "2022-09-11T17:53:07.259330Z",
     "iopub.status.idle": "2022-09-11T17:53:07.267366Z",
     "shell.execute_reply": "2022-09-11T17:53:07.266368Z"
    },
    "papermill": {
     "duration": 0.024085,
     "end_time": "2022-09-11T17:53:07.269636",
     "exception": false,
     "start_time": "2022-09-11T17:53:07.245551",
     "status": "completed"
    },
    "tags": []
   },
   "outputs": [],
   "source": [
    "# Replacing 0 in 'thal' where value = - 100000\n",
    "\n",
    "thal_median = int(data['thal'].median())\n",
    "data.loc[data.thal == -100000,'thal'] = np.nan \n",
    "data.fillna(thal_median,inplace=True)"
   ]
  },
  {
   "cell_type": "code",
   "execution_count": 13,
   "id": "f7e05a1c",
   "metadata": {
    "execution": {
     "iopub.execute_input": "2022-09-11T17:53:07.298981Z",
     "iopub.status.busy": "2022-09-11T17:53:07.298448Z",
     "iopub.status.idle": "2022-09-11T17:53:07.313175Z",
     "shell.execute_reply": "2022-09-11T17:53:07.312261Z"
    },
    "papermill": {
     "duration": 0.033299,
     "end_time": "2022-09-11T17:53:07.315252",
     "exception": false,
     "start_time": "2022-09-11T17:53:07.281953",
     "status": "completed"
    },
    "tags": []
   },
   "outputs": [
    {
     "data": {
      "text/plain": [
       "0      6.0\n",
       "1      3.0\n",
       "2      7.0\n",
       "3      3.0\n",
       "4      3.0\n",
       "      ... \n",
       "298    7.0\n",
       "299    7.0\n",
       "300    7.0\n",
       "301    3.0\n",
       "302    3.0\n",
       "Name: thal, Length: 303, dtype: float64"
      ]
     },
     "execution_count": 13,
     "metadata": {},
     "output_type": "execute_result"
    }
   ],
   "source": [
    "data['thal']"
   ]
  },
  {
   "cell_type": "code",
   "execution_count": 14,
   "id": "99cb7d14",
   "metadata": {
    "execution": {
     "iopub.execute_input": "2022-09-11T17:53:07.342010Z",
     "iopub.status.busy": "2022-09-11T17:53:07.341567Z",
     "iopub.status.idle": "2022-09-11T17:53:07.347595Z",
     "shell.execute_reply": "2022-09-11T17:53:07.346439Z"
    },
    "papermill": {
     "duration": 0.021921,
     "end_time": "2022-09-11T17:53:07.349782",
     "exception": false,
     "start_time": "2022-09-11T17:53:07.327861",
     "status": "completed"
    },
    "tags": []
   },
   "outputs": [],
   "source": [
    "# Replacing zero with mean in 'oldpeak' column\n",
    "\n",
    "data['oldpeak'] = np.where(data['oldpeak'] == 0, data['oldpeak'].mean(),data['oldpeak'])"
   ]
  },
  {
   "cell_type": "code",
   "execution_count": 15,
   "id": "cf8e634e",
   "metadata": {
    "execution": {
     "iopub.execute_input": "2022-09-11T17:53:07.376612Z",
     "iopub.status.busy": "2022-09-11T17:53:07.376239Z",
     "iopub.status.idle": "2022-09-11T17:53:07.384636Z",
     "shell.execute_reply": "2022-09-11T17:53:07.383547Z"
    },
    "papermill": {
     "duration": 0.024465,
     "end_time": "2022-09-11T17:53:07.386748",
     "exception": false,
     "start_time": "2022-09-11T17:53:07.362283",
     "status": "completed"
    },
    "tags": []
   },
   "outputs": [
    {
     "data": {
      "text/plain": [
       "0      2.300000\n",
       "1      1.500000\n",
       "2      2.600000\n",
       "3      3.500000\n",
       "4      1.400000\n",
       "         ...   \n",
       "298    1.200000\n",
       "299    3.400000\n",
       "300    1.200000\n",
       "301    1.039604\n",
       "302    1.039604\n",
       "Name: oldpeak, Length: 303, dtype: float64"
      ]
     },
     "execution_count": 15,
     "metadata": {},
     "output_type": "execute_result"
    }
   ],
   "source": [
    "data['oldpeak']"
   ]
  },
  {
   "cell_type": "code",
   "execution_count": 16,
   "id": "1dff3f99",
   "metadata": {
    "execution": {
     "iopub.execute_input": "2022-09-11T17:53:07.413501Z",
     "iopub.status.busy": "2022-09-11T17:53:07.413127Z",
     "iopub.status.idle": "2022-09-11T17:53:07.433168Z",
     "shell.execute_reply": "2022-09-11T17:53:07.432353Z"
    },
    "papermill": {
     "duration": 0.036095,
     "end_time": "2022-09-11T17:53:07.435293",
     "exception": false,
     "start_time": "2022-09-11T17:53:07.399198",
     "status": "completed"
    },
    "tags": []
   },
   "outputs": [
    {
     "data": {
      "text/html": [
       "<div>\n",
       "<style scoped>\n",
       "    .dataframe tbody tr th:only-of-type {\n",
       "        vertical-align: middle;\n",
       "    }\n",
       "\n",
       "    .dataframe tbody tr th {\n",
       "        vertical-align: top;\n",
       "    }\n",
       "\n",
       "    .dataframe thead th {\n",
       "        text-align: right;\n",
       "    }\n",
       "</style>\n",
       "<table border=\"1\" class=\"dataframe\">\n",
       "  <thead>\n",
       "    <tr style=\"text-align: right;\">\n",
       "      <th></th>\n",
       "      <th>age</th>\n",
       "      <th>sex</th>\n",
       "      <th>cp</th>\n",
       "      <th>trestbps</th>\n",
       "      <th>chol</th>\n",
       "      <th>fbs</th>\n",
       "      <th>restecg</th>\n",
       "      <th>thalach</th>\n",
       "      <th>exang</th>\n",
       "      <th>oldpeak</th>\n",
       "      <th>slope</th>\n",
       "      <th>ca</th>\n",
       "      <th>thal</th>\n",
       "      <th>num</th>\n",
       "    </tr>\n",
       "  </thead>\n",
       "  <tbody>\n",
       "    <tr>\n",
       "      <th>0</th>\n",
       "      <td>63</td>\n",
       "      <td>1</td>\n",
       "      <td>1</td>\n",
       "      <td>145</td>\n",
       "      <td>233</td>\n",
       "      <td>1</td>\n",
       "      <td>2</td>\n",
       "      <td>150</td>\n",
       "      <td>0</td>\n",
       "      <td>2.300000</td>\n",
       "      <td>3</td>\n",
       "      <td>0.0</td>\n",
       "      <td>6.0</td>\n",
       "      <td>0</td>\n",
       "    </tr>\n",
       "    <tr>\n",
       "      <th>1</th>\n",
       "      <td>67</td>\n",
       "      <td>1</td>\n",
       "      <td>4</td>\n",
       "      <td>160</td>\n",
       "      <td>286</td>\n",
       "      <td>0</td>\n",
       "      <td>2</td>\n",
       "      <td>108</td>\n",
       "      <td>1</td>\n",
       "      <td>1.500000</td>\n",
       "      <td>2</td>\n",
       "      <td>3.0</td>\n",
       "      <td>3.0</td>\n",
       "      <td>1</td>\n",
       "    </tr>\n",
       "    <tr>\n",
       "      <th>2</th>\n",
       "      <td>67</td>\n",
       "      <td>1</td>\n",
       "      <td>4</td>\n",
       "      <td>120</td>\n",
       "      <td>229</td>\n",
       "      <td>0</td>\n",
       "      <td>2</td>\n",
       "      <td>129</td>\n",
       "      <td>1</td>\n",
       "      <td>2.600000</td>\n",
       "      <td>2</td>\n",
       "      <td>2.0</td>\n",
       "      <td>7.0</td>\n",
       "      <td>1</td>\n",
       "    </tr>\n",
       "    <tr>\n",
       "      <th>3</th>\n",
       "      <td>37</td>\n",
       "      <td>1</td>\n",
       "      <td>3</td>\n",
       "      <td>130</td>\n",
       "      <td>250</td>\n",
       "      <td>0</td>\n",
       "      <td>0</td>\n",
       "      <td>187</td>\n",
       "      <td>0</td>\n",
       "      <td>3.500000</td>\n",
       "      <td>3</td>\n",
       "      <td>0.0</td>\n",
       "      <td>3.0</td>\n",
       "      <td>0</td>\n",
       "    </tr>\n",
       "    <tr>\n",
       "      <th>4</th>\n",
       "      <td>41</td>\n",
       "      <td>0</td>\n",
       "      <td>2</td>\n",
       "      <td>130</td>\n",
       "      <td>204</td>\n",
       "      <td>0</td>\n",
       "      <td>2</td>\n",
       "      <td>172</td>\n",
       "      <td>0</td>\n",
       "      <td>1.400000</td>\n",
       "      <td>1</td>\n",
       "      <td>0.0</td>\n",
       "      <td>3.0</td>\n",
       "      <td>0</td>\n",
       "    </tr>\n",
       "    <tr>\n",
       "      <th>...</th>\n",
       "      <td>...</td>\n",
       "      <td>...</td>\n",
       "      <td>...</td>\n",
       "      <td>...</td>\n",
       "      <td>...</td>\n",
       "      <td>...</td>\n",
       "      <td>...</td>\n",
       "      <td>...</td>\n",
       "      <td>...</td>\n",
       "      <td>...</td>\n",
       "      <td>...</td>\n",
       "      <td>...</td>\n",
       "      <td>...</td>\n",
       "      <td>...</td>\n",
       "    </tr>\n",
       "    <tr>\n",
       "      <th>298</th>\n",
       "      <td>45</td>\n",
       "      <td>1</td>\n",
       "      <td>1</td>\n",
       "      <td>110</td>\n",
       "      <td>264</td>\n",
       "      <td>0</td>\n",
       "      <td>0</td>\n",
       "      <td>132</td>\n",
       "      <td>0</td>\n",
       "      <td>1.200000</td>\n",
       "      <td>2</td>\n",
       "      <td>0.0</td>\n",
       "      <td>7.0</td>\n",
       "      <td>1</td>\n",
       "    </tr>\n",
       "    <tr>\n",
       "      <th>299</th>\n",
       "      <td>68</td>\n",
       "      <td>1</td>\n",
       "      <td>4</td>\n",
       "      <td>144</td>\n",
       "      <td>193</td>\n",
       "      <td>1</td>\n",
       "      <td>0</td>\n",
       "      <td>141</td>\n",
       "      <td>0</td>\n",
       "      <td>3.400000</td>\n",
       "      <td>2</td>\n",
       "      <td>2.0</td>\n",
       "      <td>7.0</td>\n",
       "      <td>1</td>\n",
       "    </tr>\n",
       "    <tr>\n",
       "      <th>300</th>\n",
       "      <td>57</td>\n",
       "      <td>1</td>\n",
       "      <td>4</td>\n",
       "      <td>130</td>\n",
       "      <td>131</td>\n",
       "      <td>0</td>\n",
       "      <td>0</td>\n",
       "      <td>115</td>\n",
       "      <td>1</td>\n",
       "      <td>1.200000</td>\n",
       "      <td>2</td>\n",
       "      <td>1.0</td>\n",
       "      <td>7.0</td>\n",
       "      <td>1</td>\n",
       "    </tr>\n",
       "    <tr>\n",
       "      <th>301</th>\n",
       "      <td>57</td>\n",
       "      <td>0</td>\n",
       "      <td>2</td>\n",
       "      <td>130</td>\n",
       "      <td>236</td>\n",
       "      <td>0</td>\n",
       "      <td>2</td>\n",
       "      <td>174</td>\n",
       "      <td>0</td>\n",
       "      <td>1.039604</td>\n",
       "      <td>2</td>\n",
       "      <td>1.0</td>\n",
       "      <td>3.0</td>\n",
       "      <td>1</td>\n",
       "    </tr>\n",
       "    <tr>\n",
       "      <th>302</th>\n",
       "      <td>38</td>\n",
       "      <td>1</td>\n",
       "      <td>3</td>\n",
       "      <td>138</td>\n",
       "      <td>175</td>\n",
       "      <td>0</td>\n",
       "      <td>0</td>\n",
       "      <td>173</td>\n",
       "      <td>0</td>\n",
       "      <td>1.039604</td>\n",
       "      <td>1</td>\n",
       "      <td>0.0</td>\n",
       "      <td>3.0</td>\n",
       "      <td>0</td>\n",
       "    </tr>\n",
       "  </tbody>\n",
       "</table>\n",
       "<p>303 rows × 14 columns</p>\n",
       "</div>"
      ],
      "text/plain": [
       "     age  sex  cp  trestbps  chol  fbs  restecg  thalach  exang   oldpeak  \\\n",
       "0     63    1   1       145   233    1        2      150      0  2.300000   \n",
       "1     67    1   4       160   286    0        2      108      1  1.500000   \n",
       "2     67    1   4       120   229    0        2      129      1  2.600000   \n",
       "3     37    1   3       130   250    0        0      187      0  3.500000   \n",
       "4     41    0   2       130   204    0        2      172      0  1.400000   \n",
       "..   ...  ...  ..       ...   ...  ...      ...      ...    ...       ...   \n",
       "298   45    1   1       110   264    0        0      132      0  1.200000   \n",
       "299   68    1   4       144   193    1        0      141      0  3.400000   \n",
       "300   57    1   4       130   131    0        0      115      1  1.200000   \n",
       "301   57    0   2       130   236    0        2      174      0  1.039604   \n",
       "302   38    1   3       138   175    0        0      173      0  1.039604   \n",
       "\n",
       "     slope   ca  thal  num  \n",
       "0        3  0.0   6.0    0  \n",
       "1        2  3.0   3.0    1  \n",
       "2        2  2.0   7.0    1  \n",
       "3        3  0.0   3.0    0  \n",
       "4        1  0.0   3.0    0  \n",
       "..     ...  ...   ...  ...  \n",
       "298      2  0.0   7.0    1  \n",
       "299      2  2.0   7.0    1  \n",
       "300      2  1.0   7.0    1  \n",
       "301      2  1.0   3.0    1  \n",
       "302      1  0.0   3.0    0  \n",
       "\n",
       "[303 rows x 14 columns]"
      ]
     },
     "execution_count": 16,
     "metadata": {},
     "output_type": "execute_result"
    }
   ],
   "source": [
    "data"
   ]
  },
  {
   "cell_type": "code",
   "execution_count": 17,
   "id": "04f54b85",
   "metadata": {
    "execution": {
     "iopub.execute_input": "2022-09-11T17:53:07.463009Z",
     "iopub.status.busy": "2022-09-11T17:53:07.462602Z",
     "iopub.status.idle": "2022-09-11T17:53:07.475423Z",
     "shell.execute_reply": "2022-09-11T17:53:07.474399Z"
    },
    "papermill": {
     "duration": 0.031932,
     "end_time": "2022-09-11T17:53:07.480313",
     "exception": false,
     "start_time": "2022-09-11T17:53:07.448381",
     "status": "completed"
    },
    "tags": []
   },
   "outputs": [
    {
     "data": {
      "text/plain": [
       "num\n",
       "0    164\n",
       "1    139\n",
       "dtype: int64"
      ]
     },
     "execution_count": 17,
     "metadata": {},
     "output_type": "execute_result"
    }
   ],
   "source": [
    "# Grouping all the values of num \n",
    "num= data.groupby('num').size()\n",
    "num"
   ]
  },
  {
   "cell_type": "code",
   "execution_count": 18,
   "id": "85c15d1d",
   "metadata": {
    "execution": {
     "iopub.execute_input": "2022-09-11T17:53:07.513081Z",
     "iopub.status.busy": "2022-09-11T17:53:07.512330Z",
     "iopub.status.idle": "2022-09-11T17:53:07.521049Z",
     "shell.execute_reply": "2022-09-11T17:53:07.519670Z"
    },
    "papermill": {
     "duration": 0.027654,
     "end_time": "2022-09-11T17:53:07.524675",
     "exception": false,
     "start_time": "2022-09-11T17:53:07.497021",
     "status": "completed"
    },
    "tags": []
   },
   "outputs": [],
   "source": [
    "# Converting Numerical Data into categorical data\n",
    "\n",
    "def heart_disease(row):\n",
    "    if row ==0:\n",
    "        return 'No'\n",
    "    elif row == 1:\n",
    "        return 'Yes'"
   ]
  },
  {
   "cell_type": "code",
   "execution_count": 19,
   "id": "30319139",
   "metadata": {
    "execution": {
     "iopub.execute_input": "2022-09-11T17:53:07.562201Z",
     "iopub.status.busy": "2022-09-11T17:53:07.561763Z",
     "iopub.status.idle": "2022-09-11T17:53:07.580544Z",
     "shell.execute_reply": "2022-09-11T17:53:07.579355Z"
    },
    "papermill": {
     "duration": 0.039259,
     "end_time": "2022-09-11T17:53:07.582770",
     "exception": false,
     "start_time": "2022-09-11T17:53:07.543511",
     "status": "completed"
    },
    "tags": []
   },
   "outputs": [
    {
     "data": {
      "text/html": [
       "<div>\n",
       "<style scoped>\n",
       "    .dataframe tbody tr th:only-of-type {\n",
       "        vertical-align: middle;\n",
       "    }\n",
       "\n",
       "    .dataframe tbody tr th {\n",
       "        vertical-align: top;\n",
       "    }\n",
       "\n",
       "    .dataframe thead th {\n",
       "        text-align: right;\n",
       "    }\n",
       "</style>\n",
       "<table border=\"1\" class=\"dataframe\">\n",
       "  <thead>\n",
       "    <tr style=\"text-align: right;\">\n",
       "      <th></th>\n",
       "      <th>age</th>\n",
       "      <th>sex</th>\n",
       "      <th>cp</th>\n",
       "      <th>trestbps</th>\n",
       "      <th>chol</th>\n",
       "      <th>fbs</th>\n",
       "      <th>restecg</th>\n",
       "      <th>thalach</th>\n",
       "      <th>exang</th>\n",
       "      <th>oldpeak</th>\n",
       "      <th>slope</th>\n",
       "      <th>ca</th>\n",
       "      <th>thal</th>\n",
       "      <th>num</th>\n",
       "      <th>Heart_Disease</th>\n",
       "    </tr>\n",
       "  </thead>\n",
       "  <tbody>\n",
       "    <tr>\n",
       "      <th>0</th>\n",
       "      <td>63</td>\n",
       "      <td>1</td>\n",
       "      <td>1</td>\n",
       "      <td>145</td>\n",
       "      <td>233</td>\n",
       "      <td>1</td>\n",
       "      <td>2</td>\n",
       "      <td>150</td>\n",
       "      <td>0</td>\n",
       "      <td>2.3</td>\n",
       "      <td>3</td>\n",
       "      <td>0.0</td>\n",
       "      <td>6.0</td>\n",
       "      <td>0</td>\n",
       "      <td>No</td>\n",
       "    </tr>\n",
       "    <tr>\n",
       "      <th>1</th>\n",
       "      <td>67</td>\n",
       "      <td>1</td>\n",
       "      <td>4</td>\n",
       "      <td>160</td>\n",
       "      <td>286</td>\n",
       "      <td>0</td>\n",
       "      <td>2</td>\n",
       "      <td>108</td>\n",
       "      <td>1</td>\n",
       "      <td>1.5</td>\n",
       "      <td>2</td>\n",
       "      <td>3.0</td>\n",
       "      <td>3.0</td>\n",
       "      <td>1</td>\n",
       "      <td>Yes</td>\n",
       "    </tr>\n",
       "    <tr>\n",
       "      <th>2</th>\n",
       "      <td>67</td>\n",
       "      <td>1</td>\n",
       "      <td>4</td>\n",
       "      <td>120</td>\n",
       "      <td>229</td>\n",
       "      <td>0</td>\n",
       "      <td>2</td>\n",
       "      <td>129</td>\n",
       "      <td>1</td>\n",
       "      <td>2.6</td>\n",
       "      <td>2</td>\n",
       "      <td>2.0</td>\n",
       "      <td>7.0</td>\n",
       "      <td>1</td>\n",
       "      <td>Yes</td>\n",
       "    </tr>\n",
       "    <tr>\n",
       "      <th>3</th>\n",
       "      <td>37</td>\n",
       "      <td>1</td>\n",
       "      <td>3</td>\n",
       "      <td>130</td>\n",
       "      <td>250</td>\n",
       "      <td>0</td>\n",
       "      <td>0</td>\n",
       "      <td>187</td>\n",
       "      <td>0</td>\n",
       "      <td>3.5</td>\n",
       "      <td>3</td>\n",
       "      <td>0.0</td>\n",
       "      <td>3.0</td>\n",
       "      <td>0</td>\n",
       "      <td>No</td>\n",
       "    </tr>\n",
       "    <tr>\n",
       "      <th>4</th>\n",
       "      <td>41</td>\n",
       "      <td>0</td>\n",
       "      <td>2</td>\n",
       "      <td>130</td>\n",
       "      <td>204</td>\n",
       "      <td>0</td>\n",
       "      <td>2</td>\n",
       "      <td>172</td>\n",
       "      <td>0</td>\n",
       "      <td>1.4</td>\n",
       "      <td>1</td>\n",
       "      <td>0.0</td>\n",
       "      <td>3.0</td>\n",
       "      <td>0</td>\n",
       "      <td>No</td>\n",
       "    </tr>\n",
       "  </tbody>\n",
       "</table>\n",
       "</div>"
      ],
      "text/plain": [
       "   age  sex  cp  trestbps  chol  fbs  restecg  thalach  exang  oldpeak  slope  \\\n",
       "0   63    1   1       145   233    1        2      150      0      2.3      3   \n",
       "1   67    1   4       160   286    0        2      108      1      1.5      2   \n",
       "2   67    1   4       120   229    0        2      129      1      2.6      2   \n",
       "3   37    1   3       130   250    0        0      187      0      3.5      3   \n",
       "4   41    0   2       130   204    0        2      172      0      1.4      1   \n",
       "\n",
       "    ca  thal  num Heart_Disease  \n",
       "0  0.0   6.0    0            No  \n",
       "1  3.0   3.0    1           Yes  \n",
       "2  2.0   7.0    1           Yes  \n",
       "3  0.0   3.0    0            No  \n",
       "4  0.0   3.0    0            No  "
      ]
     },
     "execution_count": 19,
     "metadata": {},
     "output_type": "execute_result"
    }
   ],
   "source": [
    "data['Heart_Disease'] = data['num'].apply(heart_disease)\n",
    "data.head()"
   ]
  },
  {
   "cell_type": "code",
   "execution_count": 20,
   "id": "2eae52ac",
   "metadata": {
    "execution": {
     "iopub.execute_input": "2022-09-11T17:53:07.611808Z",
     "iopub.status.busy": "2022-09-11T17:53:07.611174Z",
     "iopub.status.idle": "2022-09-11T17:53:07.620035Z",
     "shell.execute_reply": "2022-09-11T17:53:07.619036Z"
    },
    "papermill": {
     "duration": 0.026014,
     "end_time": "2022-09-11T17:53:07.622138",
     "exception": false,
     "start_time": "2022-09-11T17:53:07.596124",
     "status": "completed"
    },
    "tags": []
   },
   "outputs": [
    {
     "data": {
      "text/plain": [
       "Heart_Disease\n",
       "No     164\n",
       "Yes    139\n",
       "Name: num, dtype: int64"
      ]
     },
     "execution_count": 20,
     "metadata": {},
     "output_type": "execute_result"
    }
   ],
   "source": [
    "#  Grouping all the numbers of heart diseasse\n",
    "\n",
    "hd = data.groupby('Heart_Disease')['num'].count()\n",
    "hd"
   ]
  },
  {
   "cell_type": "code",
   "execution_count": 21,
   "id": "bc3fb285",
   "metadata": {
    "execution": {
     "iopub.execute_input": "2022-09-11T17:53:07.650959Z",
     "iopub.status.busy": "2022-09-11T17:53:07.650227Z",
     "iopub.status.idle": "2022-09-11T17:53:07.821250Z",
     "shell.execute_reply": "2022-09-11T17:53:07.819854Z"
    },
    "papermill": {
     "duration": 0.189694,
     "end_time": "2022-09-11T17:53:07.825051",
     "exception": false,
     "start_time": "2022-09-11T17:53:07.635357",
     "status": "completed"
    },
    "tags": []
   },
   "outputs": [
    {
     "data": {
      "image/png": "[encoded data removed]",
      "text/plain": [
       "<Figure size 720x504 with 1 Axes>"
      ]
     },
     "metadata": {},
     "output_type": "display_data"
    }
   ],
   "source": [
    "# Pie chart of Heart Disease Population in percentage using Matplotlib\n",
    "\n",
    "plt.figure(figsize=(10,7))\n",
    "plt.pie(hd,labels = ['No','Yes'], autopct = '%0.0f%%')\n",
    "plt.title('Heart Disease population %', fontsize = 20)\n",
    "plt.show()"
   ]
  },
  {
   "cell_type": "code",
   "execution_count": 22,
   "id": "1f420ba6",
   "metadata": {
    "execution": {
     "iopub.execute_input": "2022-09-11T17:53:07.881181Z",
     "iopub.status.busy": "2022-09-11T17:53:07.880734Z",
     "iopub.status.idle": "2022-09-11T17:53:08.516876Z",
     "shell.execute_reply": "2022-09-11T17:53:08.515759Z"
    },
    "papermill": {
     "duration": 0.658422,
     "end_time": "2022-09-11T17:53:08.519519",
     "exception": false,
     "start_time": "2022-09-11T17:53:07.861097",
     "status": "completed"
    },
    "tags": []
   },
   "outputs": [
    {
     "data": {
      "image/png": "[encoded data removed]",
      "text/plain": [
       "<Figure size 1080x504 with 1 Axes>"
      ]
     },
     "metadata": {
      "needs_background": "light"
     },
     "output_type": "display_data"
    }
   ],
   "source": [
    "# Plotting the population based on age \n",
    "\n",
    "plt.figure(figsize=(15,7))\n",
    "sns.countplot(x='age',data=data)\n",
    "plt.title('Population Age',fontsize =17)\n",
    "plt.xlabel('Age',fontsize =15)\n",
    "plt.ylabel('Count',fontsize =15)\n",
    "plt.show()"
   ]
  },
  {
   "cell_type": "code",
   "execution_count": 23,
   "id": "e111d85c",
   "metadata": {
    "execution": {
     "iopub.execute_input": "2022-09-11T17:53:08.550267Z",
     "iopub.status.busy": "2022-09-11T17:53:08.549810Z",
     "iopub.status.idle": "2022-09-11T17:53:08.557252Z",
     "shell.execute_reply": "2022-09-11T17:53:08.556073Z"
    },
    "papermill": {
     "duration": 0.025673,
     "end_time": "2022-09-11T17:53:08.559752",
     "exception": false,
     "start_time": "2022-09-11T17:53:08.534079",
     "status": "completed"
    },
    "tags": []
   },
   "outputs": [
    {
     "name": "stdout",
     "output_type": "stream",
     "text": [
      "Minimum Age= 29\n",
      "Max_Age= 77\n",
      "Mean_Age= 54.43894389438944\n"
     ]
    }
   ],
   "source": [
    "# stastical analysis\n",
    "\n",
    "Min_Age = data['age'].min()\n",
    "Max_Age = data['age'].max()\n",
    "Mean_Age = data['age'].mean()\n",
    "print(\"Minimum Age=\",Min_Age)\n",
    "print(\"Max_Age=\",Max_Age)\n",
    "print(\"Mean_Age=\",Mean_Age)"
   ]
  },
  {
   "cell_type": "code",
   "execution_count": 24,
   "id": "d6a380a4",
   "metadata": {
    "execution": {
     "iopub.execute_input": "2022-09-11T17:53:08.590975Z",
     "iopub.status.busy": "2022-09-11T17:53:08.590542Z",
     "iopub.status.idle": "2022-09-11T17:53:08.600938Z",
     "shell.execute_reply": "2022-09-11T17:53:08.599718Z"
    },
    "papermill": {
     "duration": 0.029357,
     "end_time": "2022-09-11T17:53:08.603542",
     "exception": false,
     "start_time": "2022-09-11T17:53:08.574185",
     "status": "completed"
    },
    "tags": []
   },
   "outputs": [
    {
     "name": "stdout",
     "output_type": "stream",
     "text": [
      "Young Ages= 15\n",
      "Middle Ages= 128\n",
      "Elderly Ages= 152\n"
     ]
    }
   ],
   "source": [
    "# Categoriging by age \n",
    "\n",
    "Young_Ages=data[(data['age']>=29) &(data['age']<40)]\n",
    "Middle_Ages=data[(data['age']>=40) & (data['age']<55)]\n",
    "Elderly_Ages=data[(data['age']>55)]\n",
    "print('Young Ages=',len(Young_Ages))\n",
    "print('Middle Ages=',len(Middle_Ages))\n",
    "print('Elderly Ages=',len(Elderly_Ages))"
   ]
  },
  {
   "cell_type": "code",
   "execution_count": 25,
   "id": "8ecf2b58",
   "metadata": {
    "execution": {
     "iopub.execute_input": "2022-09-11T17:53:08.633796Z",
     "iopub.status.busy": "2022-09-11T17:53:08.633411Z",
     "iopub.status.idle": "2022-09-11T17:53:08.840908Z",
     "shell.execute_reply": "2022-09-11T17:53:08.840118Z"
    },
    "papermill": {
     "duration": 0.225436,
     "end_time": "2022-09-11T17:53:08.843144",
     "exception": false,
     "start_time": "2022-09-11T17:53:08.617708",
     "status": "completed"
    },
    "tags": []
   },
   "outputs": [
    {
     "data": {
      "image/png": "[encoded data removed]",
      "text/plain": [
       "<Figure size 432x288 with 1 Axes>"
      ]
     },
     "metadata": {
      "needs_background": "light"
     },
     "output_type": "display_data"
    }
   ],
   "source": [
    "# Bar plot on the basis of ages\n",
    "\n",
    "sns.barplot(x=['Young_Ages','Middle_Ages','Elderly_Ages'],y=[len(Young_Ages),len(Middle_Ages),len(Elderly_Ages)],palette='YlGn_r')\n",
    "plt.title('Age category',fontsize=17)\n",
    "plt.xlabel('Age Range',fontsize=15)\n",
    "plt.ylabel('Count',fontsize=15)\n",
    "plt.show()"
   ]
  },
  {
   "cell_type": "code",
   "execution_count": 26,
   "id": "28afc307",
   "metadata": {
    "execution": {
     "iopub.execute_input": "2022-09-11T17:53:08.875924Z",
     "iopub.status.busy": "2022-09-11T17:53:08.874677Z",
     "iopub.status.idle": "2022-09-11T17:53:08.880622Z",
     "shell.execute_reply": "2022-09-11T17:53:08.879877Z"
    },
    "papermill": {
     "duration": 0.024349,
     "end_time": "2022-09-11T17:53:08.882851",
     "exception": false,
     "start_time": "2022-09-11T17:53:08.858502",
     "status": "completed"
    },
    "tags": []
   },
   "outputs": [],
   "source": [
    "# Converting Numerical data into Categorical Data\n",
    "\n",
    "def gen(row):\n",
    "    if row == 1:\n",
    "        return 'Male'\n",
    "    elif row == 0:\n",
    "        return 'Female'\n"
   ]
  },
  {
   "cell_type": "code",
   "execution_count": 27,
   "id": "fe009d2b",
   "metadata": {
    "execution": {
     "iopub.execute_input": "2022-09-11T17:53:08.913741Z",
     "iopub.status.busy": "2022-09-11T17:53:08.912986Z",
     "iopub.status.idle": "2022-09-11T17:53:08.932128Z",
     "shell.execute_reply": "2022-09-11T17:53:08.930970Z"
    },
    "papermill": {
     "duration": 0.03718,
     "end_time": "2022-09-11T17:53:08.934444",
     "exception": false,
     "start_time": "2022-09-11T17:53:08.897264",
     "status": "completed"
    },
    "tags": []
   },
   "outputs": [
    {
     "data": {
      "text/html": [
       "<div>\n",
       "<style scoped>\n",
       "    .dataframe tbody tr th:only-of-type {\n",
       "        vertical-align: middle;\n",
       "    }\n",
       "\n",
       "    .dataframe tbody tr th {\n",
       "        vertical-align: top;\n",
       "    }\n",
       "\n",
       "    .dataframe thead th {\n",
       "        text-align: right;\n",
       "    }\n",
       "</style>\n",
       "<table border=\"1\" class=\"dataframe\">\n",
       "  <thead>\n",
       "    <tr style=\"text-align: right;\">\n",
       "      <th></th>\n",
       "      <th>age</th>\n",
       "      <th>sex</th>\n",
       "      <th>cp</th>\n",
       "      <th>trestbps</th>\n",
       "      <th>chol</th>\n",
       "      <th>fbs</th>\n",
       "      <th>restecg</th>\n",
       "      <th>thalach</th>\n",
       "      <th>exang</th>\n",
       "      <th>oldpeak</th>\n",
       "      <th>slope</th>\n",
       "      <th>ca</th>\n",
       "      <th>thal</th>\n",
       "      <th>num</th>\n",
       "      <th>Heart_Disease</th>\n",
       "      <th>sex1</th>\n",
       "    </tr>\n",
       "  </thead>\n",
       "  <tbody>\n",
       "    <tr>\n",
       "      <th>0</th>\n",
       "      <td>63</td>\n",
       "      <td>1</td>\n",
       "      <td>1</td>\n",
       "      <td>145</td>\n",
       "      <td>233</td>\n",
       "      <td>1</td>\n",
       "      <td>2</td>\n",
       "      <td>150</td>\n",
       "      <td>0</td>\n",
       "      <td>2.3</td>\n",
       "      <td>3</td>\n",
       "      <td>0.0</td>\n",
       "      <td>6.0</td>\n",
       "      <td>0</td>\n",
       "      <td>No</td>\n",
       "      <td>Male</td>\n",
       "    </tr>\n",
       "    <tr>\n",
       "      <th>1</th>\n",
       "      <td>67</td>\n",
       "      <td>1</td>\n",
       "      <td>4</td>\n",
       "      <td>160</td>\n",
       "      <td>286</td>\n",
       "      <td>0</td>\n",
       "      <td>2</td>\n",
       "      <td>108</td>\n",
       "      <td>1</td>\n",
       "      <td>1.5</td>\n",
       "      <td>2</td>\n",
       "      <td>3.0</td>\n",
       "      <td>3.0</td>\n",
       "      <td>1</td>\n",
       "      <td>Yes</td>\n",
       "      <td>Male</td>\n",
       "    </tr>\n",
       "    <tr>\n",
       "      <th>2</th>\n",
       "      <td>67</td>\n",
       "      <td>1</td>\n",
       "      <td>4</td>\n",
       "      <td>120</td>\n",
       "      <td>229</td>\n",
       "      <td>0</td>\n",
       "      <td>2</td>\n",
       "      <td>129</td>\n",
       "      <td>1</td>\n",
       "      <td>2.6</td>\n",
       "      <td>2</td>\n",
       "      <td>2.0</td>\n",
       "      <td>7.0</td>\n",
       "      <td>1</td>\n",
       "      <td>Yes</td>\n",
       "      <td>Male</td>\n",
       "    </tr>\n",
       "    <tr>\n",
       "      <th>3</th>\n",
       "      <td>37</td>\n",
       "      <td>1</td>\n",
       "      <td>3</td>\n",
       "      <td>130</td>\n",
       "      <td>250</td>\n",
       "      <td>0</td>\n",
       "      <td>0</td>\n",
       "      <td>187</td>\n",
       "      <td>0</td>\n",
       "      <td>3.5</td>\n",
       "      <td>3</td>\n",
       "      <td>0.0</td>\n",
       "      <td>3.0</td>\n",
       "      <td>0</td>\n",
       "      <td>No</td>\n",
       "      <td>Male</td>\n",
       "    </tr>\n",
       "    <tr>\n",
       "      <th>4</th>\n",
       "      <td>41</td>\n",
       "      <td>0</td>\n",
       "      <td>2</td>\n",
       "      <td>130</td>\n",
       "      <td>204</td>\n",
       "      <td>0</td>\n",
       "      <td>2</td>\n",
       "      <td>172</td>\n",
       "      <td>0</td>\n",
       "      <td>1.4</td>\n",
       "      <td>1</td>\n",
       "      <td>0.0</td>\n",
       "      <td>3.0</td>\n",
       "      <td>0</td>\n",
       "      <td>No</td>\n",
       "      <td>Female</td>\n",
       "    </tr>\n",
       "  </tbody>\n",
       "</table>\n",
       "</div>"
      ],
      "text/plain": [
       "   age  sex  cp  trestbps  chol  fbs  restecg  thalach  exang  oldpeak  slope  \\\n",
       "0   63    1   1       145   233    1        2      150      0      2.3      3   \n",
       "1   67    1   4       160   286    0        2      108      1      1.5      2   \n",
       "2   67    1   4       120   229    0        2      129      1      2.6      2   \n",
       "3   37    1   3       130   250    0        0      187      0      3.5      3   \n",
       "4   41    0   2       130   204    0        2      172      0      1.4      1   \n",
       "\n",
       "    ca  thal  num Heart_Disease    sex1  \n",
       "0  0.0   6.0    0            No    Male  \n",
       "1  3.0   3.0    1           Yes    Male  \n",
       "2  2.0   7.0    1           Yes    Male  \n",
       "3  0.0   3.0    0            No    Male  \n",
       "4  0.0   3.0    0            No  Female  "
      ]
     },
     "execution_count": 27,
     "metadata": {},
     "output_type": "execute_result"
    }
   ],
   "source": [
    "# Applying converted data into our dataset with new colomn \n",
    "\n",
    "data['sex1'] = data['sex'].apply(gen)\n",
    "data.head()"
   ]
  },
  {
   "cell_type": "code",
   "execution_count": 28,
   "id": "a00cc63e",
   "metadata": {
    "execution": {
     "iopub.execute_input": "2022-09-11T17:53:08.965995Z",
     "iopub.status.busy": "2022-09-11T17:53:08.965238Z",
     "iopub.status.idle": "2022-09-11T17:53:09.071502Z",
     "shell.execute_reply": "2022-09-11T17:53:09.070035Z"
    },
    "papermill": {
     "duration": 0.125064,
     "end_time": "2022-09-11T17:53:09.074212",
     "exception": false,
     "start_time": "2022-09-11T17:53:08.949148",
     "status": "completed"
    },
    "tags": []
   },
   "outputs": [
    {
     "data": {
      "image/png": "[encoded data removed]",
      "text/plain": [
       "<Figure size 720x504 with 1 Axes>"
      ]
     },
     "metadata": {},
     "output_type": "display_data"
    }
   ],
   "source": [
    "# Pie chart based on gender\n",
    "\n",
    "plt.figure(figsize = (10,7))\n",
    "plt.pie(hd, labels = ['Male', 'FeMale'], autopct = '%0.0f%%')\n",
    "plt.title('Gender %', fontsize = 20)\n",
    "plt.show()"
   ]
  },
  {
   "cell_type": "code",
   "execution_count": 29,
   "id": "88c268e3",
   "metadata": {
    "execution": {
     "iopub.execute_input": "2022-09-11T17:53:09.107063Z",
     "iopub.status.busy": "2022-09-11T17:53:09.106361Z",
     "iopub.status.idle": "2022-09-11T17:53:09.113451Z",
     "shell.execute_reply": "2022-09-11T17:53:09.112469Z"
    },
    "papermill": {
     "duration": 0.026205,
     "end_time": "2022-09-11T17:53:09.115806",
     "exception": false,
     "start_time": "2022-09-11T17:53:09.089601",
     "status": "completed"
    },
    "tags": []
   },
   "outputs": [],
   "source": [
    "# Converting  Numerical data into Categorical data \n",
    "\n",
    "def age_range(row):\n",
    "    if row > 29 and row < 40:\n",
    "        return 'Young age'\n",
    "    elif row >=40 and row <55:\n",
    "        return 'Middle age'\n",
    "    elif row>55:\n",
    "        return 'Elder age '"
   ]
  },
  {
   "cell_type": "code",
   "execution_count": 30,
   "id": "b17f1221",
   "metadata": {
    "execution": {
     "iopub.execute_input": "2022-09-11T17:53:09.148278Z",
     "iopub.status.busy": "2022-09-11T17:53:09.147877Z",
     "iopub.status.idle": "2022-09-11T17:53:09.169659Z",
     "shell.execute_reply": "2022-09-11T17:53:09.168688Z"
    },
    "papermill": {
     "duration": 0.040882,
     "end_time": "2022-09-11T17:53:09.172098",
     "exception": false,
     "start_time": "2022-09-11T17:53:09.131216",
     "status": "completed"
    },
    "tags": []
   },
   "outputs": [
    {
     "data": {
      "text/html": [
       "<div>\n",
       "<style scoped>\n",
       "    .dataframe tbody tr th:only-of-type {\n",
       "        vertical-align: middle;\n",
       "    }\n",
       "\n",
       "    .dataframe tbody tr th {\n",
       "        vertical-align: top;\n",
       "    }\n",
       "\n",
       "    .dataframe thead th {\n",
       "        text-align: right;\n",
       "    }\n",
       "</style>\n",
       "<table border=\"1\" class=\"dataframe\">\n",
       "  <thead>\n",
       "    <tr style=\"text-align: right;\">\n",
       "      <th></th>\n",
       "      <th>age</th>\n",
       "      <th>sex</th>\n",
       "      <th>cp</th>\n",
       "      <th>trestbps</th>\n",
       "      <th>chol</th>\n",
       "      <th>fbs</th>\n",
       "      <th>restecg</th>\n",
       "      <th>thalach</th>\n",
       "      <th>exang</th>\n",
       "      <th>oldpeak</th>\n",
       "      <th>slope</th>\n",
       "      <th>ca</th>\n",
       "      <th>thal</th>\n",
       "      <th>num</th>\n",
       "      <th>Heart_Disease</th>\n",
       "      <th>sex1</th>\n",
       "      <th>Age_Range</th>\n",
       "    </tr>\n",
       "  </thead>\n",
       "  <tbody>\n",
       "    <tr>\n",
       "      <th>0</th>\n",
       "      <td>63</td>\n",
       "      <td>1</td>\n",
       "      <td>1</td>\n",
       "      <td>145</td>\n",
       "      <td>233</td>\n",
       "      <td>1</td>\n",
       "      <td>2</td>\n",
       "      <td>150</td>\n",
       "      <td>0</td>\n",
       "      <td>2.3</td>\n",
       "      <td>3</td>\n",
       "      <td>0.0</td>\n",
       "      <td>6.0</td>\n",
       "      <td>0</td>\n",
       "      <td>No</td>\n",
       "      <td>Male</td>\n",
       "      <td>Elder age</td>\n",
       "    </tr>\n",
       "    <tr>\n",
       "      <th>1</th>\n",
       "      <td>67</td>\n",
       "      <td>1</td>\n",
       "      <td>4</td>\n",
       "      <td>160</td>\n",
       "      <td>286</td>\n",
       "      <td>0</td>\n",
       "      <td>2</td>\n",
       "      <td>108</td>\n",
       "      <td>1</td>\n",
       "      <td>1.5</td>\n",
       "      <td>2</td>\n",
       "      <td>3.0</td>\n",
       "      <td>3.0</td>\n",
       "      <td>1</td>\n",
       "      <td>Yes</td>\n",
       "      <td>Male</td>\n",
       "      <td>Elder age</td>\n",
       "    </tr>\n",
       "    <tr>\n",
       "      <th>2</th>\n",
       "      <td>67</td>\n",
       "      <td>1</td>\n",
       "      <td>4</td>\n",
       "      <td>120</td>\n",
       "      <td>229</td>\n",
       "      <td>0</td>\n",
       "      <td>2</td>\n",
       "      <td>129</td>\n",
       "      <td>1</td>\n",
       "      <td>2.6</td>\n",
       "      <td>2</td>\n",
       "      <td>2.0</td>\n",
       "      <td>7.0</td>\n",
       "      <td>1</td>\n",
       "      <td>Yes</td>\n",
       "      <td>Male</td>\n",
       "      <td>Elder age</td>\n",
       "    </tr>\n",
       "    <tr>\n",
       "      <th>3</th>\n",
       "      <td>37</td>\n",
       "      <td>1</td>\n",
       "      <td>3</td>\n",
       "      <td>130</td>\n",
       "      <td>250</td>\n",
       "      <td>0</td>\n",
       "      <td>0</td>\n",
       "      <td>187</td>\n",
       "      <td>0</td>\n",
       "      <td>3.5</td>\n",
       "      <td>3</td>\n",
       "      <td>0.0</td>\n",
       "      <td>3.0</td>\n",
       "      <td>0</td>\n",
       "      <td>No</td>\n",
       "      <td>Male</td>\n",
       "      <td>Young age</td>\n",
       "    </tr>\n",
       "    <tr>\n",
       "      <th>4</th>\n",
       "      <td>41</td>\n",
       "      <td>0</td>\n",
       "      <td>2</td>\n",
       "      <td>130</td>\n",
       "      <td>204</td>\n",
       "      <td>0</td>\n",
       "      <td>2</td>\n",
       "      <td>172</td>\n",
       "      <td>0</td>\n",
       "      <td>1.4</td>\n",
       "      <td>1</td>\n",
       "      <td>0.0</td>\n",
       "      <td>3.0</td>\n",
       "      <td>0</td>\n",
       "      <td>No</td>\n",
       "      <td>Female</td>\n",
       "      <td>Middle age</td>\n",
       "    </tr>\n",
       "  </tbody>\n",
       "</table>\n",
       "</div>"
      ],
      "text/plain": [
       "   age  sex  cp  trestbps  chol  fbs  restecg  thalach  exang  oldpeak  slope  \\\n",
       "0   63    1   1       145   233    1        2      150      0      2.3      3   \n",
       "1   67    1   4       160   286    0        2      108      1      1.5      2   \n",
       "2   67    1   4       120   229    0        2      129      1      2.6      2   \n",
       "3   37    1   3       130   250    0        0      187      0      3.5      3   \n",
       "4   41    0   2       130   204    0        2      172      0      1.4      1   \n",
       "\n",
       "    ca  thal  num Heart_Disease    sex1   Age_Range  \n",
       "0  0.0   6.0    0            No    Male  Elder age   \n",
       "1  3.0   3.0    1           Yes    Male  Elder age   \n",
       "2  2.0   7.0    1           Yes    Male  Elder age   \n",
       "3  0.0   3.0    0            No    Male   Young age  \n",
       "4  0.0   3.0    0            No  Female  Middle age  "
      ]
     },
     "execution_count": 30,
     "metadata": {},
     "output_type": "execute_result"
    }
   ],
   "source": [
    "data['Age_Range'] = data['age'].apply(age_range)\n",
    "data.head()"
   ]
  },
  {
   "cell_type": "code",
   "execution_count": 31,
   "id": "bfd8d6b2",
   "metadata": {
    "execution": {
     "iopub.execute_input": "2022-09-11T17:53:09.204984Z",
     "iopub.status.busy": "2022-09-11T17:53:09.204272Z",
     "iopub.status.idle": "2022-09-11T17:53:09.509053Z",
     "shell.execute_reply": "2022-09-11T17:53:09.507860Z"
    },
    "papermill": {
     "duration": 0.3251,
     "end_time": "2022-09-11T17:53:09.512639",
     "exception": false,
     "start_time": "2022-09-11T17:53:09.187539",
     "status": "completed"
    },
    "tags": []
   },
   "outputs": [
    {
     "data": {
      "image/png": "[encoded data removed]",
      "text/plain": [
       "<Figure size 720x504 with 1 Axes>"
      ]
     },
     "metadata": {
      "needs_background": "light"
     },
     "output_type": "display_data"
    }
   ],
   "source": [
    "# Swarm plot based on gender category\n",
    "plt.figure(figsize=(10,7))\n",
    "sns.swarmplot(x='Age_Range', y='age', hue='sex1', data=data)\n",
    "plt.title('Gender Based Age Category', fontsize=17)\n",
    "plt.xlabel('Age Category', fontsize=15)\n",
    "plt.ylabel('Age', fontsize=15)\n",
    "plt.show()"
   ]
  },
  {
   "cell_type": "code",
   "execution_count": 32,
   "id": "20442b6c",
   "metadata": {
    "execution": {
     "iopub.execute_input": "2022-09-11T17:53:09.565258Z",
     "iopub.status.busy": "2022-09-11T17:53:09.564147Z",
     "iopub.status.idle": "2022-09-11T17:53:09.739313Z",
     "shell.execute_reply": "2022-09-11T17:53:09.738161Z"
    },
    "papermill": {
     "duration": 0.204031,
     "end_time": "2022-09-11T17:53:09.741920",
     "exception": false,
     "start_time": "2022-09-11T17:53:09.537889",
     "status": "completed"
    },
    "tags": []
   },
   "outputs": [
    {
     "data": {
      "image/png": "[encoded data removed]",
      "text/plain": [
       "<Figure size 504x360 with 1 Axes>"
      ]
     },
     "metadata": {
      "needs_background": "light"
     },
     "output_type": "display_data"
    }
   ],
   "source": [
    "# Count plot of heart disease based on age range \n",
    "\n",
    "plt.figure(figsize=(7,5))\n",
    "hue_order=['Young Age','Middle Age','Elder Age']\n",
    "sns.countplot(x='Heart_Disease',hue='Age_Range',data=data,order=['Yes','No'])\n",
    "plt.title('Heart Disease Based on Age Category', fontsize =17)\n",
    "plt.xlabel('Heart Disease', fontsize=15)\n",
    "plt.ylabel('Count',fontsize=15)\n",
    "plt.show()"
   ]
  },
  {
   "cell_type": "code",
   "execution_count": 33,
   "id": "94fa18e9",
   "metadata": {
    "execution": {
     "iopub.execute_input": "2022-09-11T17:53:09.776948Z",
     "iopub.status.busy": "2022-09-11T17:53:09.776535Z",
     "iopub.status.idle": "2022-09-11T17:53:09.933322Z",
     "shell.execute_reply": "2022-09-11T17:53:09.932254Z"
    },
    "papermill": {
     "duration": 0.176998,
     "end_time": "2022-09-11T17:53:09.935719",
     "exception": false,
     "start_time": "2022-09-11T17:53:09.758721",
     "status": "completed"
    },
    "tags": []
   },
   "outputs": [
    {
     "data": {
      "image/png": "[encoded data removed]",
      "text/plain": [
       "<Figure size 504x360 with 1 Axes>"
      ]
     },
     "metadata": {
      "needs_background": "light"
     },
     "output_type": "display_data"
    }
   ],
   "source": [
    "# Count plot of heart disease based on sex\n",
    "\n",
    "plt.figure(figsize=(7,5))\n",
    "sns.countplot(x=data['Heart_Disease'],hue='sex1',data=data)\n",
    "plt.xlabel('Heart Disease', fontsize =15 )\n",
    "plt.ylabel('Count',fontsize=15)\n",
    "plt.legend(labels=['Male','Female'])\n",
    "plt.title('Heart Disease Based on Gender',fontsize =17)\n",
    "plt.show()"
   ]
  },
  {
   "cell_type": "code",
   "execution_count": 34,
   "id": "a8881798",
   "metadata": {
    "execution": {
     "iopub.execute_input": "2022-09-11T17:53:09.971318Z",
     "iopub.status.busy": "2022-09-11T17:53:09.970736Z",
     "iopub.status.idle": "2022-09-11T17:53:10.218351Z",
     "shell.execute_reply": "2022-09-11T17:53:10.217275Z"
    },
    "papermill": {
     "duration": 0.267941,
     "end_time": "2022-09-11T17:53:10.220621",
     "exception": false,
     "start_time": "2022-09-11T17:53:09.952680",
     "status": "completed"
    },
    "tags": []
   },
   "outputs": [
    {
     "data": {
      "image/png": "[encoded data removed]",
      "text/plain": [
       "<Figure size 432x288 with 1 Axes>"
      ]
     },
     "metadata": {
      "needs_background": "light"
     },
     "output_type": "display_data"
    }
   ],
   "source": [
    "# count plot based on chest pain experience \n",
    "\n",
    "sns.countplot(x=data['Heart_Disease'],hue ='cp',data=data, order=['Yes','No'])\n",
    "plt.title('Chest pain Experience',fontsize=17)\n",
    "plt.xlabel('Heart Disease',fontsize=15)\n",
    "plt.ylabel('Count',fontsize=15)\n",
    "plt.legend(labels=['Typical Agina','Atypical Angina','Non-Aginal Pain','Asymptomatic'])\n",
    "plt.show()"
   ]
  },
  {
   "cell_type": "code",
   "execution_count": 35,
   "id": "e6eb41c5",
   "metadata": {
    "execution": {
     "iopub.execute_input": "2022-09-11T17:53:10.258102Z",
     "iopub.status.busy": "2022-09-11T17:53:10.256935Z",
     "iopub.status.idle": "2022-09-11T17:53:10.493137Z",
     "shell.execute_reply": "2022-09-11T17:53:10.492000Z"
    },
    "papermill": {
     "duration": 0.257547,
     "end_time": "2022-09-11T17:53:10.495601",
     "exception": false,
     "start_time": "2022-09-11T17:53:10.238054",
     "status": "completed"
    },
    "tags": []
   },
   "outputs": [
    {
     "data": {
      "image/png": "[encoded data removed]",
      "text/plain": [
       "<Figure size 432x288 with 1 Axes>"
      ]
     },
     "metadata": {
      "needs_background": "light"
     },
     "output_type": "display_data"
    }
   ],
   "source": [
    "# Chest pain based on gender \n",
    "sns.countplot(x=data['sex1'],hue='cp',data=data)\n",
    "plt.title('Chest pain Based on Gender',fontsize=17)\n",
    "plt.xlabel('Sex',fontsize=15)\n",
    "plt.ylabel('Counts',fontsize=15)\n",
    "plt.legend(labels=['Typical Angina','Attypical Angina','Non-Anginal pain','Asymptomatic'])\n",
    "plt.show()"
   ]
  },
  {
   "cell_type": "code",
   "execution_count": 36,
   "id": "3325cdf8",
   "metadata": {
    "execution": {
     "iopub.execute_input": "2022-09-11T17:53:10.532230Z",
     "iopub.status.busy": "2022-09-11T17:53:10.531423Z",
     "iopub.status.idle": "2022-09-11T17:53:10.737680Z",
     "shell.execute_reply": "2022-09-11T17:53:10.736492Z"
    },
    "papermill": {
     "duration": 0.227331,
     "end_time": "2022-09-11T17:53:10.740221",
     "exception": false,
     "start_time": "2022-09-11T17:53:10.512890",
     "status": "completed"
    },
    "tags": []
   },
   "outputs": [
    {
     "data": {
      "image/png": "[encoded data removed]",
      "text/plain": [
       "<Figure size 432x288 with 1 Axes>"
      ]
     },
     "metadata": {
      "needs_background": "light"
     },
     "output_type": "display_data"
    }
   ],
   "source": [
    "# Category based on age \n",
    "\n",
    "sns.countplot(x=data['Age_Range'], hue='cp',data=data)\n",
    "plt.title('Chest pain based on age category',fontsize=17)\n",
    "plt.xlabel('Age Category',fontsize=15)\n",
    "plt.ylabel('Count',fontsize=15)\n",
    "plt.legend(labels=['Typical Angina','Atypical Angina','Non-Anginal pain','Asymptomatic'])\n",
    "plt.show()\n"
   ]
  },
  {
   "cell_type": "code",
   "execution_count": 37,
   "id": "b95df011",
   "metadata": {
    "execution": {
     "iopub.execute_input": "2022-09-11T17:53:10.785988Z",
     "iopub.status.busy": "2022-09-11T17:53:10.785200Z",
     "iopub.status.idle": "2022-09-11T17:53:10.970379Z",
     "shell.execute_reply": "2022-09-11T17:53:10.968871Z"
    },
    "papermill": {
     "duration": 0.216739,
     "end_time": "2022-09-11T17:53:10.974987",
     "exception": false,
     "start_time": "2022-09-11T17:53:10.758248",
     "status": "completed"
    },
    "tags": []
   },
   "outputs": [
    {
     "data": {
      "image/png": "[encoded data removed]",
      "text/plain": [
       "<Figure size 432x288 with 1 Axes>"
      ]
     },
     "metadata": {
      "needs_background": "light"
     },
     "output_type": "display_data"
    }
   ],
   "source": [
    "#  plotting based on blood pressure \n",
    "\n",
    "sns.barplot(x='sex1',y='trestbps',data=data)\n",
    "plt.title('Blood Pressure',fontsize=15)\n",
    "plt.xlabel('Sex',fontsize=15)\n",
    "plt.ylabel(\"Person's resting blood pressure\",fontsize=12)\n",
    "plt.show()"
   ]
  },
  {
   "cell_type": "code",
   "execution_count": 38,
   "id": "aff04e26",
   "metadata": {
    "execution": {
     "iopub.execute_input": "2022-09-11T17:53:11.018621Z",
     "iopub.status.busy": "2022-09-11T17:53:11.017490Z",
     "iopub.status.idle": "2022-09-11T17:53:11.261814Z",
     "shell.execute_reply": "2022-09-11T17:53:11.261019Z"
    },
    "papermill": {
     "duration": 0.265883,
     "end_time": "2022-09-11T17:53:11.264130",
     "exception": false,
     "start_time": "2022-09-11T17:53:10.998247",
     "status": "completed"
    },
    "tags": []
   },
   "outputs": [
    {
     "data": {
      "image/png": "[encoded data removed]",
      "text/plain": [
       "<Figure size 432x288 with 1 Axes>"
      ]
     },
     "metadata": {
      "needs_background": "light"
     },
     "output_type": "display_data"
    }
   ],
   "source": [
    "#  Ploting Cholestrol vs Heart disease\n",
    "sns.barplot(x='Heart_Disease',y='chol',data=data)\n",
    "plt.title('Cholestrol Vs Hearth Disease', fontsize = 17)\n",
    "plt.xlabel('Heart Disease',fontsize =15)\n",
    "plt.ylabel('Cholestrol',fontsize=15)\n",
    "plt.show()"
   ]
  },
  {
   "cell_type": "code",
   "execution_count": 39,
   "id": "c8eaed4a",
   "metadata": {
    "execution": {
     "iopub.execute_input": "2022-09-11T17:53:11.304612Z",
     "iopub.status.busy": "2022-09-11T17:53:11.303594Z",
     "iopub.status.idle": "2022-09-11T17:53:11.552004Z",
     "shell.execute_reply": "2022-09-11T17:53:11.550874Z"
    },
    "papermill": {
     "duration": 0.271656,
     "end_time": "2022-09-11T17:53:11.554747",
     "exception": false,
     "start_time": "2022-09-11T17:53:11.283091",
     "status": "completed"
    },
    "tags": []
   },
   "outputs": [
    {
     "data": {
      "image/png": "[encoded data removed]",
      "text/plain": [
       "<Figure size 432x288 with 1 Axes>"
      ]
     },
     "metadata": {
      "needs_background": "light"
     },
     "output_type": "display_data"
    }
   ],
   "source": [
    "# Plotting Blood Pressure Vs Hearth Disease\n",
    "\n",
    "sns.barplot(x='Heart_Disease',y='trestbps',data=data)\n",
    "plt.title('Blood Pressure vs Heart Disease', fontsize = 17)\n",
    "plt.xlabel('Heart Disease',fontsize=15)\n",
    "plt.ylabel('Blood Pressure',fontsize=15)\n",
    "plt.show()"
   ]
  },
  {
   "cell_type": "code",
   "execution_count": 40,
   "id": "16bf5b69",
   "metadata": {
    "execution": {
     "iopub.execute_input": "2022-09-11T17:53:11.593873Z",
     "iopub.status.busy": "2022-09-11T17:53:11.593162Z",
     "iopub.status.idle": "2022-09-11T17:53:12.575020Z",
     "shell.execute_reply": "2022-09-11T17:53:12.574154Z"
    },
    "papermill": {
     "duration": 1.003852,
     "end_time": "2022-09-11T17:53:12.577249",
     "exception": false,
     "start_time": "2022-09-11T17:53:11.573397",
     "status": "completed"
    },
    "tags": []
   },
   "outputs": [
    {
     "data": {
      "image/png": "[encoded data removed]",
      "text/plain": [
       "<Figure size 432x288 with 1 Axes>"
      ]
     },
     "metadata": {
      "needs_background": "light"
     },
     "output_type": "display_data"
    }
   ],
   "source": [
    "# Plooting Blood pressure Vs heart Disease\n",
    "\n",
    "sns.lineplot(x='age',y='trestbps',data=data)\n",
    "plt.title('Bllod Pressure VS Age',fontsize = 17)\n",
    "plt.xlabel('Age',fontsize=15)\n",
    "plt.ylabel('Blood Pressure',fontsize=15)\n",
    "plt.show()"
   ]
  },
  {
   "cell_type": "code",
   "execution_count": 41,
   "id": "ed09c604",
   "metadata": {
    "execution": {
     "iopub.execute_input": "2022-09-11T17:53:12.618262Z",
     "iopub.status.busy": "2022-09-11T17:53:12.617492Z",
     "iopub.status.idle": "2022-09-11T17:53:13.594375Z",
     "shell.execute_reply": "2022-09-11T17:53:13.593593Z"
    },
    "papermill": {
     "duration": 0.999938,
     "end_time": "2022-09-11T17:53:13.596645",
     "exception": false,
     "start_time": "2022-09-11T17:53:12.596707",
     "status": "completed"
    },
    "tags": []
   },
   "outputs": [
    {
     "data": {
      "image/png": "[encoded data removed]",
      "text/plain": [
       "<Figure size 432x288 with 1 Axes>"
      ]
     },
     "metadata": {
      "needs_background": "light"
     },
     "output_type": "display_data"
    }
   ],
   "source": [
    "# plotting graph of cholestrol Vs Age \n",
    "\n",
    "sns.lineplot(x='age',y='chol',data=data)\n",
    "plt.title('Cholestrol VS Age',fontsize =17)\n",
    "plt.xlabel('Age',fontsize=15)\n",
    "plt.ylabel('Cholestrol',fontsize=15)\n",
    "plt.show()"
   ]
  },
  {
   "cell_type": "code",
   "execution_count": 42,
   "id": "9e812c00",
   "metadata": {
    "execution": {
     "iopub.execute_input": "2022-09-11T17:53:13.639761Z",
     "iopub.status.busy": "2022-09-11T17:53:13.639015Z",
     "iopub.status.idle": "2022-09-11T17:53:14.619574Z",
     "shell.execute_reply": "2022-09-11T17:53:14.618480Z"
    },
    "papermill": {
     "duration": 1.004885,
     "end_time": "2022-09-11T17:53:14.622028",
     "exception": false,
     "start_time": "2022-09-11T17:53:13.617143",
     "status": "completed"
    },
    "tags": []
   },
   "outputs": [
    {
     "data": {
      "image/png": "[encoded data removed]",
      "text/plain": [
       "<Figure size 432x288 with 1 Axes>"
      ]
     },
     "metadata": {
      "needs_background": "light"
     },
     "output_type": "display_data"
    }
   ],
   "source": [
    "# ST depression VS Age\n",
    "\n",
    "sns.lineplot(x='age',y='oldpeak',data=data)\n",
    "plt.title('St depression VS Age',fontsize=17)\n",
    "plt.xlabel('Age',fontsize=15)\n",
    "plt.ylabel('ST Depression',fontsize=15)\n",
    "plt.show()"
   ]
  },
  {
   "cell_type": "code",
   "execution_count": 43,
   "id": "f4bccab5",
   "metadata": {
    "execution": {
     "iopub.execute_input": "2022-09-11T17:53:14.665370Z",
     "iopub.status.busy": "2022-09-11T17:53:14.664911Z",
     "iopub.status.idle": "2022-09-11T17:53:15.060637Z",
     "shell.execute_reply": "2022-09-11T17:53:15.059597Z"
    },
    "papermill": {
     "duration": 0.420027,
     "end_time": "2022-09-11T17:53:15.062899",
     "exception": false,
     "start_time": "2022-09-11T17:53:14.642872",
     "status": "completed"
    },
    "tags": []
   },
   "outputs": [
    {
     "data": {
      "image/png": "[encoded data removed]",
      "text/plain": [
       "<Figure size 432x288 with 1 Axes>"
      ]
     },
     "metadata": {
      "needs_background": "light"
     },
     "output_type": "display_data"
    }
   ],
   "source": [
    "# ST depression VS Heart Disease\n",
    "\n",
    "sns.barplot(x='sex1',y='oldpeak',data=data)\n",
    "plt.title('ST Depression VS Heart Disease',fontsize =17)\n",
    "plt.xlabel('Sex',fontsize=15)\n",
    "plt.ylabel('ST Depression',fontsize=15)\n",
    "plt.show()"
   ]
  },
  {
   "cell_type": "code",
   "execution_count": 44,
   "id": "31c1196b",
   "metadata": {
    "execution": {
     "iopub.execute_input": "2022-09-11T17:53:15.106938Z",
     "iopub.status.busy": "2022-09-11T17:53:15.106213Z",
     "iopub.status.idle": "2022-09-11T17:53:15.123115Z",
     "shell.execute_reply": "2022-09-11T17:53:15.122152Z"
    },
    "papermill": {
     "duration": 0.041533,
     "end_time": "2022-09-11T17:53:15.125415",
     "exception": false,
     "start_time": "2022-09-11T17:53:15.083882",
     "status": "completed"
    },
    "tags": []
   },
   "outputs": [
    {
     "data": {
      "text/html": [
       "<div>\n",
       "<style scoped>\n",
       "    .dataframe tbody tr th:only-of-type {\n",
       "        vertical-align: middle;\n",
       "    }\n",
       "\n",
       "    .dataframe tbody tr th {\n",
       "        vertical-align: top;\n",
       "    }\n",
       "\n",
       "    .dataframe thead th {\n",
       "        text-align: right;\n",
       "    }\n",
       "</style>\n",
       "<table border=\"1\" class=\"dataframe\">\n",
       "  <thead>\n",
       "    <tr style=\"text-align: right;\">\n",
       "      <th></th>\n",
       "      <th>age</th>\n",
       "      <th>sex</th>\n",
       "      <th>cp</th>\n",
       "      <th>trestbps</th>\n",
       "      <th>chol</th>\n",
       "      <th>fbs</th>\n",
       "      <th>restecg</th>\n",
       "      <th>thalach</th>\n",
       "      <th>exang</th>\n",
       "      <th>oldpeak</th>\n",
       "      <th>slope</th>\n",
       "      <th>ca</th>\n",
       "      <th>thal</th>\n",
       "      <th>num</th>\n",
       "      <th>Heart_Disease</th>\n",
       "      <th>sex1</th>\n",
       "      <th>Age_Range</th>\n",
       "    </tr>\n",
       "  </thead>\n",
       "  <tbody>\n",
       "    <tr>\n",
       "      <th>0</th>\n",
       "      <td>63</td>\n",
       "      <td>1</td>\n",
       "      <td>1</td>\n",
       "      <td>145</td>\n",
       "      <td>233</td>\n",
       "      <td>1</td>\n",
       "      <td>2</td>\n",
       "      <td>150</td>\n",
       "      <td>0</td>\n",
       "      <td>2.3</td>\n",
       "      <td>3</td>\n",
       "      <td>0.0</td>\n",
       "      <td>6.0</td>\n",
       "      <td>0</td>\n",
       "      <td>No</td>\n",
       "      <td>Male</td>\n",
       "      <td>Elder age</td>\n",
       "    </tr>\n",
       "    <tr>\n",
       "      <th>1</th>\n",
       "      <td>67</td>\n",
       "      <td>1</td>\n",
       "      <td>4</td>\n",
       "      <td>160</td>\n",
       "      <td>286</td>\n",
       "      <td>0</td>\n",
       "      <td>2</td>\n",
       "      <td>108</td>\n",
       "      <td>1</td>\n",
       "      <td>1.5</td>\n",
       "      <td>2</td>\n",
       "      <td>3.0</td>\n",
       "      <td>3.0</td>\n",
       "      <td>1</td>\n",
       "      <td>Yes</td>\n",
       "      <td>Male</td>\n",
       "      <td>Elder age</td>\n",
       "    </tr>\n",
       "    <tr>\n",
       "      <th>2</th>\n",
       "      <td>67</td>\n",
       "      <td>1</td>\n",
       "      <td>4</td>\n",
       "      <td>120</td>\n",
       "      <td>229</td>\n",
       "      <td>0</td>\n",
       "      <td>2</td>\n",
       "      <td>129</td>\n",
       "      <td>1</td>\n",
       "      <td>2.6</td>\n",
       "      <td>2</td>\n",
       "      <td>2.0</td>\n",
       "      <td>7.0</td>\n",
       "      <td>1</td>\n",
       "      <td>Yes</td>\n",
       "      <td>Male</td>\n",
       "      <td>Elder age</td>\n",
       "    </tr>\n",
       "  </tbody>\n",
       "</table>\n",
       "</div>"
      ],
      "text/plain": [
       "   age  sex  cp  trestbps  chol  fbs  restecg  thalach  exang  oldpeak  slope  \\\n",
       "0   63    1   1       145   233    1        2      150      0      2.3      3   \n",
       "1   67    1   4       160   286    0        2      108      1      1.5      2   \n",
       "2   67    1   4       120   229    0        2      129      1      2.6      2   \n",
       "\n",
       "    ca  thal  num Heart_Disease  sex1   Age_Range  \n",
       "0  0.0   6.0    0            No  Male  Elder age   \n",
       "1  3.0   3.0    1           Yes  Male  Elder age   \n",
       "2  2.0   7.0    1           Yes  Male  Elder age   "
      ]
     },
     "execution_count": 44,
     "metadata": {},
     "output_type": "execute_result"
    }
   ],
   "source": [
    "data.head(3)"
   ]
  },
  {
   "cell_type": "code",
   "execution_count": 45,
   "id": "de05f89e",
   "metadata": {
    "execution": {
     "iopub.execute_input": "2022-09-11T17:53:15.170093Z",
     "iopub.status.busy": "2022-09-11T17:53:15.168980Z",
     "iopub.status.idle": "2022-09-11T17:53:15.420157Z",
     "shell.execute_reply": "2022-09-11T17:53:15.418897Z"
    },
    "papermill": {
     "duration": 0.276321,
     "end_time": "2022-09-11T17:53:15.422859",
     "exception": false,
     "start_time": "2022-09-11T17:53:15.146538",
     "status": "completed"
    },
    "tags": []
   },
   "outputs": [
    {
     "data": {
      "image/png": "[encoded data removed]",
      "text/plain": [
       "<Figure size 432x288 with 1 Axes>"
      ]
     },
     "metadata": {
      "needs_background": "light"
     },
     "output_type": "display_data"
    }
   ],
   "source": [
    "# Angina Vs Heart Disease\n",
    "\n",
    "sns.barplot(x='Heart_Disease',y='exang',data=data)\n",
    "plt.title('Exercise with Angina VS Heart Disease',fontsize=15)\n",
    "plt.xlabel('Heart Disease',fontsize=15)\n",
    "plt.ylabel('Exercise With Angina',fontsize=15)\n",
    "plt.show()"
   ]
  },
  {
   "cell_type": "code",
   "execution_count": 46,
   "id": "452a50ef",
   "metadata": {
    "execution": {
     "iopub.execute_input": "2022-09-11T17:53:15.474924Z",
     "iopub.status.busy": "2022-09-11T17:53:15.474125Z",
     "iopub.status.idle": "2022-09-11T17:53:15.724357Z",
     "shell.execute_reply": "2022-09-11T17:53:15.723493Z"
    },
    "papermill": {
     "duration": 0.276986,
     "end_time": "2022-09-11T17:53:15.726995",
     "exception": false,
     "start_time": "2022-09-11T17:53:15.450009",
     "status": "completed"
    },
    "tags": []
   },
   "outputs": [
    {
     "data": {
      "image/png": "[encoded data removed]",
      "text/plain": [
       "<Figure size 432x288 with 1 Axes>"
      ]
     },
     "metadata": {
      "needs_background": "light"
     },
     "output_type": "display_data"
    }
   ],
   "source": [
    "#  Angina Vs Gander\n",
    "\n",
    "sns.barplot(x='sex1',y='exang',data=data)\n",
    "plt.title('Angina VS Gender',fontsize=17)\n",
    "plt.xlabel('Sex',fontsize=15)\n",
    "plt.ylabel('Exercise with Angina',fontsize=15)\n",
    "plt.show()"
   ]
  },
  {
   "cell_type": "code",
   "execution_count": 47,
   "id": "ad852b85",
   "metadata": {
    "execution": {
     "iopub.execute_input": "2022-09-11T17:53:15.789194Z",
     "iopub.status.busy": "2022-09-11T17:53:15.788674Z",
     "iopub.status.idle": "2022-09-11T17:53:17.092618Z",
     "shell.execute_reply": "2022-09-11T17:53:17.091120Z"
    },
    "papermill": {
     "duration": 1.33799,
     "end_time": "2022-09-11T17:53:17.095108",
     "exception": false,
     "start_time": "2022-09-11T17:53:15.757118",
     "status": "completed"
    },
    "tags": []
   },
   "outputs": [
    {
     "data": {
      "text/plain": [
       "<AxesSubplot:>"
      ]
     },
     "execution_count": 47,
     "metadata": {},
     "output_type": "execute_result"
    },
    {
     "data": {
      "image/png": "[encoded data removed]",
      "text/plain": [
       "<Figure size 1152x648 with 2 Axes>"
      ]
     },
     "metadata": {
      "needs_background": "light"
     },
     "output_type": "display_data"
    }
   ],
   "source": [
    "# Heatmap using seaborn\n",
    "\n",
    "plt.figure(figsize=(16,9))\n",
    "sns.heatmap(data.corr(),annot=True,linewidth=3)"
   ]
  }
 ],
 "metadata": {
  "kernelspec": {
   "display_name": "Python 3",
   "language": "python",
   "name": "python3"
  },
  "language_info": {
   "codemirror_mode": {
    "name": "ipython",
    "version": 3
   },
   "file_extension": ".py",
   "mimetype": "text/x-python",
   "name": "python",
   "nbconvert_exporter": "python",
   "pygments_lexer": "ipython3",
   "version": "3.7.12"
  },
  "papermill": {
   "default_parameters": {},
   "duration": 21.352161,
   "end_time": "2022-09-11T17:53:17.841545",
   "environment_variables": {},
   "exception": null,
   "input_path": "__notebook__.ipynb",
   "output_path": "__notebook__.ipynb",
   "parameters": {},
   "start_time": "2022-09-11T17:52:56.489384",
   "version": "2.3.4"
  }
 },
 "nbformat": 4,
 "nbformat_minor": 5
}
